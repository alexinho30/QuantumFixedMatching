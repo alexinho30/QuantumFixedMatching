{
 "cells": [
  {
   "cell_type": "markdown",
   "id": "feded71e-a0b3-499c-bb0b-7dc34ac0b9d8",
   "metadata": {},
   "source": [
    "# Quantum Substring Comparison\n",
    "#"
   ]
  },
  {
   "cell_type": "code",
   "execution_count": 8,
   "id": "f442247f-e26e-4c4a-9a1f-23bbd8c718e6",
   "metadata": {},
   "outputs": [],
   "source": [
    "from qiskit import QuantumCircuit, QuantumRegister, ClassicalRegister, transpile\n",
    "from math import log2, floor\n",
    "import numpy as np\n",
    "from qiskit_aer import AerSimulator\n",
    "from qiskit.visualization import plot_histogram, plot_bloch_vector\n",
    "import matplotlib.pyplot as plt  "
   ]
  },
  {
   "cell_type": "markdown",
   "id": "397429ff-5ac1-41f3-a9d9-be804b0f41e6",
   "metadata": {},
   "source": [
    "## Introduction"
   ]
  },
  {
   "cell_type": "markdown",
   "id": "8bd51656-bdf1-41f6-b852-d2511c35eec0",
   "metadata": {},
   "source": [
    "In recent years has gained ground the emerging field of quantum computing,giving the possibility to implement algorithms with superior asymptotic performance to those achievable using classical computers.   \n",
    "The aim of the project is to provide an implementation of a quantum algorithm [1] :https://arxiv.org/abs/2308.11758, which solve a classical problem related to text processing, and compare the performance with a classical implemention of the same algorithm.\n",
    "Given two input strings, x and y, both of length n, and a value d ⩽ n, we want to verify the following conditions:  \n",
    "the existence of a common prefix of length d, the presence of a common substring of length d beginning at position j  and, the presence  of any common substring of length d beginning in both strings at the same position.\n",
    "Formally, given tow input strings x and y,both of length n, whose character are drown from an alphabet S, and a parameter d,with 0 < d ⩽ n, we want to solve the following problems:\n",
    "- the Fixed Prefix Matching (FPM) problem, which tests for the existence of  a common prefix of length d between x and y, checks whether:  \n",
    "   <pre>                                  x[0,1...d-1]= y[0,1...d-1]</pre>                                        \n",
    "- the Fixed Factor Matching (FFM) problem, which test, for a given parameter j, with 0 ⩽ j < n−d , the existence of a common substring(of length d) between x and y, starting at index j .\n",
    "   <pre>                                  x[j,j+1...j+d-1]= y[j,j+1...j+d-1]            </pre>\n",
    "- the Shared Fixed Substring Checking (SFSC) problem, which tests for  the existence of a common substring between x and y, of length d,     starting at index j in both strings. It tests whether:\n",
    "   <pre>                        ∃ j : 0 ⩽ j < n−d and x[j,j+1...j + d − 1] = y[j,j+1...j + d − 1]     <pre>                                             "
   ]
  },
  {
   "cell_type": "markdown",
   "id": "a7732370-3230-4173-a3ad-e5b38e8d860e",
   "metadata": {},
   "source": [
    "## A gentle introduction to quantum Computing"
   ]
  },
  {
   "cell_type": "markdown",
   "id": "837adf3e-64f9-443c-b0e7-41baa317de87",
   "metadata": {},
   "source": [
    "Qbit is the basic unit of quantum computation and can be understood as the quantum equivalent of the traditional bit used in\n",
    "classical computers.\n",
    "It is a two-state quantum mechanical system, one of the simplest quantum systems displaying the peculiarity of quantum mechanics, \n",
    "examples include the spin of the electron or the polarization of a single photon.  \n",
    "In quantum mechanics a general quantum state can be represented by a vector defined on Hilbert space  $\\mathcal{H}$, in particular a qbit, that is a very simple quantum mechanical system, can be represented as linear combination of two basis states |0$\\rangle$ and |1$\\rangle$:\n",
    "$$ |\\psi\\rangle = \\alpha|0\\rangle + \\beta|1\\rangle\\ \\alpha,\\beta \\in \\mathbb{C}\\ $$\n",
    "where |$\\alpha$|$^2$ and |$\\beta$|$^2$ represent the probability of outcome  |0$\\rangle$ and  |1$\\rangle$ respectively. Because the absolute squares of the amplitudes equate to probabilities, it follows that $\\alpha$ and $\\beta$ must be constrained, according to the second axiom of probability theory, by the equation:\n",
    "$$ |\\alpha|^2 + |\\beta|^2=1$$\n",
    "This expression represent quantum superposition, a key concept that distinguishes quantum mechanical system from their classical counterpart.  \n",
    "  \n",
    "Multiple qbits taken together are referred to as a quantum registers.A quantum register |$\\psi\\rangle$=|q1,..qn$\\rangle$ is the tensor product of constituent qbits:\n",
    "$$ |\\psi\\rangle= \\otimes_{i=1}^n q_i $$ "
   ]
  },
  {
   "cell_type": "markdown",
   "id": "dcb2dc3c-8aac-4103-9260-d5334246949b",
   "metadata": {},
   "source": [
    "### Quantum Operators"
   ]
  },
  {
   "cell_type": "markdown",
   "id": "444c771f-ca7f-4ea3-a32e-023eb5d1edbe",
   "metadata": {},
   "source": [
    "A qbit can be represented in the Bloch sphere.However, a qbit has four parameter but a sphere allows \n",
    "only three dimensional representation, so Bloch manipulated the definition to obtain this equation:\n",
    "$$ \\ket{\\psi} = \\cos \\frac{\\theta}{2} \\ket{0} + e^{i \\phi} \\sin \\frac{\\theta}{2} \\ket{1} $$"
   ]
  },
  {
   "cell_type": "markdown",
   "id": "dc9b8502-eea5-4501-8378-912172de2c69",
   "metadata": {},
   "source": [
    "A quantum operation maps a point u on the unit sphere to some other point q on the unit sphere, \n",
    "so an operation can be represented by a matrix.\n",
    "Moreover, we restrict these matrices to be linear and invertible, such matricies are called unitary.\n",
    "- linearity\n",
    "$$ A(\\alpha \\ket{\\psi_1} + \\beta \\ket{\\psi_2}) = \\alpha A(\\ket{\\psi_1}) + \\beta A(\\ket{\\psi_2})\\\n",
    "\\forall \\alpha, \\beta \\in \\mathbb{C},\\ \\forall \\ket{\\psi_1}, \\ket{\\psi_2} \\in \\mathcal{H} $$\n",
    "- invertibility\n",
    "$$ U^\\dagger U = I\\ \\ \\\n",
    " UU^\\dagger = I $$\n",
    "                  where $U^\\dagger$ is the complex conjugate of $U$ and $I$ is the identity matrix.   \n",
    "The following are the elementary quantum operators we will use :\n",
    "- NOT gate, formally it maps |0$\\rangle$ to |1$\\rangle$ and vice versa\n",
    "$$\n",
    "NOT = \\begin{bmatrix} 0 & 1\\\\ 1 & 0\\end{bmatrix}\n",
    "$$ \n",
    "\n",
    "- CNOT gate, formally it maps |q$_0$,q$_1$ $\\rangle$ to |q$_0$,q$_0$ $\\oplus$q$_1$ $\\rangle$\n",
    "$$\n",
    "CNOT = \\begin{bmatrix} 1 & 0 & 0 & 0 \\\\ 0 & 1 & 0 & 0 \\\\ 0 & 0 & 0 & 1 \\\\ 0 & 0 & 1 & 0 \\end{bmatrix}\n",
    "$$\n",
    "\n",
    "- SWAP gate, formally it maps |q$_0$,q$_1$ $\\rangle$ to |q$_1$,q$_0$ $\\rangle$, it could be obtained applying three times CNOT\n",
    "$$\n",
    "SWAP = \\begin{bmatrix} 1 & 0 & 0 & 0 \\\\ 0 & 0 & 1 & 0 \\\\ 0 & 1 & 0 & 0 \\\\ 0 & 0 & 0 & 1 \\end{bmatrix}\n",
    "$$\n",
    "\n",
    "- the FREDKIN gate, that consist in swap gate controlled by a single qbit\n",
    "$$\n",
    "FREDKIN = \\begin{bmatrix} 1 & 0 & 0 & 0 & 0 & 0 & 0 & 0\\\\0 & 1 & 0 & 0 & 0 & 0 & 0 & 0\\\\0 & 0 & 1 & 0 & 0 & 0 & 0 & 0\\\\0 & 0 & 0 & 1 & 0 & 0 & 0 & 0 \\\\ 0 & 0 & 0 & 0 & 1 & 0 & 0 & 0  \\\\ 0 & 0 & 0 & 0 & 0 & 0 & 1 & 0 \\\\ 0 & 0 & 0 & 0 & 0 & 1 & 0 & 0  \\\\ 0 & 0 & 0 & 0 & 0 & 0 & 0 & 1\\end{bmatrix}\n",
    "$$\n",
    "- Toffoli gate, it  formally maps |q$_0$,q$_1$, q$_2$ $\\rangle$ to |q$_0$,q$_1$, q$_0$ $\\oplus$q$_1$ $\\oplus$q$_2$ $\\rangle$\n",
    "$$\n",
    "CX3 = \\begin{bmatrix} 1 & 0 & 0 & 0 & 0 & 0 & 0 & 0\\\\0 & 1 & 0 & 0 & 0 & 0 & 0 & 0\\\\0 & 0 & 1 & 0 & 0 & 0 & 0 & 0\\\\0 & 0 & 0 & 1 & 0 & 0 & 0 & 0 \\\\ 0 & 0 & 0 & 0 & 0 & 1 & 0 & 0  \\\\ 0 & 0 & 0 & 0 & 1 & 0 & 0 & 0 \\\\ 0 & 0 & 0 & 0 & 0 & 0 & 0 & 1  \\\\ 0 & 0 & 0 & 0 & 0 & 0 & 1 & 0\\end{bmatrix}\n",
    "$$\n",
    "\n",
    "- Multiple CNOT, formally it maps |q$_0$,q$_1$,q$_2$...q$_n$ $\\rangle$ to |q$_0$,q$_1$,q$_2$... ,q$_0$ $\\oplus$ q$_1$ $\\oplus$ q$_2$ $\\oplus$ q$_n$ $\\rangle$"
   ]
  },
  {
   "cell_type": "markdown",
   "id": "27f59f88-e3bd-44c5-bc7c-638872204688",
   "metadata": {},
   "source": [
    "### Quantum Boolean Oracles"
   ]
  },
  {
   "cell_type": "markdown",
   "id": "b558ae3d-4149-432b-a565-71a7cb691d06",
   "metadata": {},
   "source": [
    "Given a function f: {0}$^n$ -> {1}$^n$,any quantum operator that maps a register containing the value of a given input x ∈ {0, 1}$^n$ into a register whose value depends on f (x) is called a quantum  boolean oracle.Formally,\n",
    "$$\n",
    "U_f|x,0\\rangle=|x,f(x)\\rangle\n",
    "$$"
   ]
  },
  {
   "cell_type": "markdown",
   "id": "dea0f4ef-6c82-47f9-ba9c-4b03cdcec62a",
   "metadata": {},
   "source": [
    "### Quantum Complexity"
   ]
  },
  {
   "cell_type": "markdown",
   "id": "b495beef-257d-4ef0-b09a-a81da32bee8d",
   "metadata": {},
   "source": [
    " A quantum algorithm can be shaped using the quantum circuit computational model.It represent quantum algorithms as sequences\n",
    "of quantum gates that manipulate qubits.This approach delves into the specifics\n",
    "of how quantum operations are executed and provides a structured methodology\n",
    "for designing and optimizing quantum algorithms.We assume the\n",
    "circuit as being divided into a sequence of discrete time-steps, where the appli-\n",
    "cation of a single gate requires a single time-step. The depth of the circuit is the\n",
    "total number of required time-steps and it is the time complexity measure"
   ]
  },
  {
   "cell_type": "markdown",
   "id": "26c452c4-75ae-463c-9ec3-86bf52e371fd",
   "metadata": {},
   "source": [
    "## Algorithm "
   ]
  },
  {
   "cell_type": "markdown",
   "id": "e4b14354-faf0-4b3e-bff7-d57813d11ce4",
   "metadata": {},
   "source": [
    "FSM(d, x, y, D$^{-1}$ ):\n",
    "1. λ0 = M(x, y)  \n",
    "2. if( $\\bar{d}$[0] = 1) then D$^{0}$ = (D$^{-1}$ ∧ λ$^{0}$ ) ≫ 2$^{0}$  \n",
    "3. for i = 1 to log(d) do  \n",
    "4.  λ$^{i}$ = EXT$_{i}$(λ$_{i-1}$)\n",
    "5.  if ($\\bar{d}$[i] = 1) then D$^i$ = (D$^{i-1}$ ∧ λ$^{i}$ ) ≫ 2$^{i}$  \n",
    "6.  else D$^{i}$ = D$^{i-1}$\n",
    "7.  end for \n",
    "8. r=V$_{j=d}^{n}$D$^{log(d)}$[j$\\cdot$ mod(n)]  \n",
    "9. return r"
   ]
  },
  {
   "cell_type": "code",
   "execution_count": null,
   "id": "4a1a3327-2bec-449d-a17c-ffa0f984f67e",
   "metadata": {},
   "outputs": [],
   "source": []
  }
 ],
 "metadata": {
  "kernelspec": {
   "display_name": "Python 3 (ipykernel)",
   "language": "python",
   "name": "python3"
  },
  "language_info": {
   "codemirror_mode": {
    "name": "ipython",
    "version": 3
   },
   "file_extension": ".py",
   "mimetype": "text/x-python",
   "name": "python",
   "nbconvert_exporter": "python",
   "pygments_lexer": "ipython3",
   "version": "3.12.3"
  }
 },
 "nbformat": 4,
 "nbformat_minor": 5
}
